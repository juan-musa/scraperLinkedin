{
 "cells": [
  {
   "cell_type": "code",
   "execution_count": null,
   "id": "b7eadc2e",
   "metadata": {},
   "outputs": [],
   "source": [
    "\n",
    "import os, random, sys, time\n",
    "from urllib.parse import urlparse\n",
    "from selenium import webdriver \n",
    "from bs4 import BeautifulSoup\n",
    "from time import sleep\n",
    "from selenium.webdriver.support import expected_conditions\n",
    "from selenium.webdriver.common.by import By\n",
    "from selenium.webdriver.common.keys import Keys\n",
    "from urllib.parse import quote\n",
    "from random import *\n",
    "import pandas as pd \n",
    " "
   ]
  },
  {
   "cell_type": "code",
   "execution_count": 22,
   "id": "ca15c8b6",
   "metadata": {},
   "outputs": [
    {
     "name": "stderr",
     "output_type": "stream",
     "text": [
      "C:\\Users\\User\\AppData\\Local\\Temp/ipykernel_8572/517780790.py:2: DeprecationWarning: executable_path has been deprecated, please pass in a Service object\n",
      "  browser = webdriver.Chrome(\"chromedriver.exe\")\n"
     ]
    }
   ],
   "source": [
    "\n",
    "#abrIR el navegador\n",
    "browser = webdriver.Chrome(\"chromedriver.exe\")\n",
    "##sleep(5)"
   ]
  },
  {
   "cell_type": "code",
   "execution_count": 23,
   "id": "a73467d6",
   "metadata": {},
   "outputs": [],
   "source": [
    "#abrIR linkedin\n",
    "elementID=browser.get(\"https://www.linkedin.com/login\")\n",
    "##sleep(3)"
   ]
  },
  {
   "cell_type": "code",
   "execution_count": 24,
   "id": "08e4bdd4",
   "metadata": {},
   "outputs": [],
   "source": [
    "#leo y guardo en variables el username y la password \n",
    "file= open(\"config.txt\")\n",
    "lines = file.readlines()\n",
    "username=lines[0]\n",
    "password=lines[1]"
   ]
  },
  {
   "cell_type": "code",
   "execution_count": 6,
   "id": "cdc3db7f",
   "metadata": {},
   "outputs": [
    {
     "name": "stderr",
     "output_type": "stream",
     "text": [
      "C:\\Users\\User\\AppData\\Local\\Temp/ipykernel_12524/3730676695.py:2: DeprecationWarning: find_element_by_* commands are deprecated. Please use find_element() instead\n",
      "  elementID=browser.find_element_by_id(\"username\")\n"
     ]
    }
   ],
   "source": [
    "#selecciono el campo username y coloco la informacion\n",
    "elementID=browser.find_element_by_id(\"username\")\n",
    "elementID.send_keys(username)\n",
    "##sleep(1)"
   ]
  },
  {
   "cell_type": "code",
   "execution_count": 7,
   "id": "cafe5947",
   "metadata": {},
   "outputs": [
    {
     "name": "stderr",
     "output_type": "stream",
     "text": [
      "C:\\Users\\User\\AppData\\Local\\Temp/ipykernel_12524/3244805219.py:2: DeprecationWarning: find_element_by_* commands are deprecated. Please use find_element() instead\n",
      "  elementID=browser.find_element_by_id(\"password\")\n"
     ]
    }
   ],
   "source": [
    "#selecciono el campo password y coloco la informacion\n",
    "elementID=browser.find_element_by_id(\"password\")\n",
    "elementID.send_keys(password)\n",
    "##sleep(1)"
   ]
  },
  {
   "cell_type": "code",
   "execution_count": 8,
   "id": "b5750cc7",
   "metadata": {
    "scrolled": true
   },
   "outputs": [],
   "source": [
    "#Enter\n",
    "elementID.submit()\n"
   ]
  },
  {
   "cell_type": "code",
   "execution_count": 12,
   "id": "1bfa5b99",
   "metadata": {},
   "outputs": [
    {
     "name": "stderr",
     "output_type": "stream",
     "text": [
      "C:\\Users\\User\\AppData\\Local\\Temp/ipykernel_12524/2857779853.py:2: DeprecationWarning: find_element_by_class_name is deprecated. Please use find_element(by=By.CLASS_NAME, value=name) instead\n",
      "  fijarbusqueda= browser.find_element_by_class_name('search-global-typeahead__input')\n"
     ]
    }
   ],
   "source": [
    "# fijar busqueda en el navegador de linkedin\n",
    "fijarbusqueda= browser.find_element_by_class_name('search-global-typeahead__input')\n",
    "sleep(2)\n",
    "fijarbusqueda.send_keys('data')\n",
    "fijarbusqueda.send_keys(Keys.ENTER)\n",
    "sleep(2)"
   ]
  },
  {
   "cell_type": "code",
   "execution_count": 13,
   "id": "3be09840",
   "metadata": {},
   "outputs": [
    {
     "name": "stderr",
     "output_type": "stream",
     "text": [
      "C:\\Users\\User\\AppData\\Local\\Temp/ipykernel_12524/2365133845.py:2: DeprecationWarning: find_element_by_xpath is deprecated. Please use find_element(by=By.XPATH, value=xpath) instead\n",
      "  BuscEmpleo=browser.find_element_by_xpath('//button[@aria-label=\"Empleos\"]')\n"
     ]
    }
   ],
   "source": [
    "#cambiar a empleos \n",
    "BuscEmpleo=browser.find_element_by_xpath('//button[@aria-label=\"Empleos\"]')\n",
    "sleep(2)\n",
    "BuscEmpleo.click()\n"
   ]
  },
  {
   "cell_type": "code",
   "execution_count": 14,
   "id": "19ea95d7",
   "metadata": {},
   "outputs": [],
   "source": [
    "#cambio de tamaño de la ventana\n",
    "browser.set_window_size(900,900)"
   ]
  },
  {
   "cell_type": "code",
   "execution_count": 15,
   "id": "9a61ee37",
   "metadata": {},
   "outputs": [],
   "source": [
    "#definir arreglos para almacenar la info \n",
    "dict_names=[]\n",
    "dict_links = []"
   ]
  },
  {
   "cell_type": "code",
   "execution_count": 16,
   "id": "6c1f2989",
   "metadata": {
    "scrolled": true
   },
   "outputs": [
    {
     "name": "stderr",
     "output_type": "stream",
     "text": [
      "C:\\Users\\User\\AppData\\Local\\Temp/ipykernel_12524/4183153396.py:1: DeprecationWarning: find_elements_by_class_name is deprecated. Please use find_elements(by=By.CLASS_NAME, value=name) instead\n",
      "  list_lk = browser.find_elements_by_class_name('jobs-search-results__list-item')\n",
      "C:\\Users\\User\\AppData\\Local\\Temp/ipykernel_12524/4183153396.py:3: DeprecationWarning: find_elements_by_class_name is deprecated. Please use find_elements(by=By.CLASS_NAME, value=name) instead\n",
      "  list_name=browser.find_elements_by_class_name(\"jobs-search-results__list-item\")\n",
      "C:\\Users\\User\\anaconda3\\lib\\site-packages\\selenium\\webdriver\\remote\\webelement.py:359: UserWarning: find_elements_by_tag_name is deprecated. Please use find_elements(by=By.TAG_NAME, value=name) instead\n",
      "  warnings.warn(\"find_elements_by_tag_name is deprecated. Please use find_elements(by=By.TAG_NAME, value=name) instead\")\n",
      "C:\\Users\\User\\anaconda3\\lib\\site-packages\\selenium\\webdriver\\remote\\webelement.py:393: UserWarning: find_element_by_xpath is deprecated. Please use find_element(by=By.XPATH, value=xpath) instead\n",
      "  warnings.warn(\"find_element_by_xpath is deprecated. Please use find_element(by=By.XPATH, value=xpath) instead\")\n"
     ]
    }
   ],
   "source": [
    "\n",
    "list_lk = browser.find_elements_by_class_name('jobs-search-results__list-item')\n",
    "#lista donde se almacenaran los links\n",
    "list_name=browser.find_elements_by_class_name(\"jobs-search-results__list-item\")\n",
    "\n",
    "sleep(2)\n",
    "\n",
    "for i in range(len(list_lk)):\n",
    "    \n",
    "    try:\n",
    "        #scroll down aleatorio\n",
    "        n= str(randint(1,2000))\n",
    "        x ='window.scrollTo(0,'+n+')'\n",
    "        browser.execute_script(x)\n",
    "        #tomamos y agregamos a la lista los links de cada compañia \n",
    "        linkEmpresa = list_lk[i].find_elements_by_tag_name(\"a\")[2].get_attribute('href')\n",
    "        dict_links.append(linkEmpresa)\n",
    "        \n",
    "\n",
    "    except:\n",
    "        dict_links.append('NaN')\n",
    "        continue\n",
    "#tomamos y agregamos a la lista de nombres\n",
    "\n",
    "for i in list_name:\n",
    "    try:\n",
    "        Name=i.find_element_by_xpath('.//a[@data-control-name=\"job_card_company_link\"]').text\n",
    "        dict_names.append(Name)\n",
    "\n",
    "    except:\n",
    "        dict_names.append('NaN')\n",
    "\n",
    "\n",
    " "
   ]
  },
  {
   "cell_type": "code",
   "execution_count": 17,
   "id": "2e87cb2f",
   "metadata": {},
   "outputs": [
    {
     "name": "stdout",
     "output_type": "stream",
     "text": [
      "['https://www.linkedin.com/company/2949089/', 'NaN', 'https://www.linkedin.com/company/73458729/', 'https://www.linkedin.com/company/38151083/', 'https://www.linkedin.com/company/2518837/', 'https://www.linkedin.com/company/2073870/', 'https://www.linkedin.com/company/2458/', 'https://www.linkedin.com/company/2450522/', 'https://www.linkedin.com/company/3027652/', 'https://www.linkedin.com/company/18045548/', 'https://www.linkedin.com/company/2073870/', 'https://www.linkedin.com/company/25058244/', 'https://www.linkedin.com/company/74692941/', 'https://www.linkedin.com/company/3163332/', 'https://www.linkedin.com/company/2518837/', 'https://www.linkedin.com/company/64604662/', 'https://www.linkedin.com/company/2073870/', 'https://www.linkedin.com/company/80443373/', 'https://www.linkedin.com/company/2073870/', 'https://www.linkedin.com/company/68841835/', 'https://www.linkedin.com/company/2614488/', 'https://www.linkedin.com/company/2073870/', 'NaN', 'NaN', 'NaN']\n"
     ]
    },
    {
     "data": {
      "text/plain": [
       "25"
      ]
     },
     "execution_count": 17,
     "metadata": {},
     "output_type": "execute_result"
    }
   ],
   "source": [
    "#Comprobar cuantos links tenemos\n",
    "print(dict_links)\n",
    "len(dict_links)"
   ]
  },
  {
   "cell_type": "code",
   "execution_count": 18,
   "id": "48b596d5",
   "metadata": {},
   "outputs": [
    {
     "name": "stdout",
     "output_type": "stream",
     "text": [
      "['Grupodot', 'NaN', 'Dataico', 'Teilur', 'FactorIT', 'Appen', 'Zurich Insurance', 'Widow Games', 'Placer.ai', 'Cognite', 'Appen', 'Listopro', 'DERCO COLOMBIA', 'Sofka Technologies', 'FactorIT', 'ScotiaTech', 'Appen', 'Trellix', 'Appen', 'Inetum', 'Dafiti Group LATAM', 'Appen', 'NaN', 'NaN', 'NaN']\n"
     ]
    },
    {
     "data": {
      "text/plain": [
       "25"
      ]
     },
     "execution_count": 18,
     "metadata": {},
     "output_type": "execute_result"
    }
   ],
   "source": [
    "#Ver nombre de las empresas encontradas\n",
    "print(dict_names)\n",
    "len(dict_names)"
   ]
  },
  {
   "cell_type": "code",
   "execution_count": 24,
   "id": "a2e55c70",
   "metadata": {},
   "outputs": [
    {
     "name": "stdout",
     "output_type": "stream",
     "text": [
      "['https://www.linkedin.com/company/2518837/', 'https://www.linkedin.com/company/38151083/', 'https://www.linkedin.com/company/2458/', 'https://www.linkedin.com/company/3027652/', 'https://www.linkedin.com/company/2073870/', 'https://www.linkedin.com/company/74692941/', 'https://www.linkedin.com/company/80443373/', 'https://www.linkedin.com/company/2450522/', 'https://www.linkedin.com/company/68841835/', 'https://www.linkedin.com/company/18045548/', 'NaN', 'https://www.linkedin.com/company/3163332/', 'https://www.linkedin.com/company/2949089/', 'https://www.linkedin.com/company/25058244/', 'https://www.linkedin.com/company/64604662/', 'https://www.linkedin.com/company/2614488/', 'https://www.linkedin.com/company/73458729/']\n"
     ]
    },
    {
     "data": {
      "text/plain": [
       "17"
      ]
     },
     "execution_count": 24,
     "metadata": {},
     "output_type": "execute_result"
    }
   ],
   "source": [
    "#filtro de repetidos\n",
    "dict_links_2= list(set(dict_links))\n",
    "\n",
    "print(dict_links_2)\n",
    "len(dict_links_2)\n",
    "\n"
   ]
  },
  {
   "cell_type": "code",
   "execution_count": 19,
   "id": "9980438c",
   "metadata": {},
   "outputs": [
    {
     "name": "stdout",
     "output_type": "stream",
     "text": [
      "['Inetum', 'Listopro', 'Appen', 'Dafiti Group LATAM', 'ScotiaTech', 'Sofka Technologies', 'Widow Games', 'NaN', 'Grupodot', 'Cognite', 'Teilur', 'Zurich Insurance', 'Trellix', 'DERCO COLOMBIA', 'Placer.ai', 'FactorIT', 'Dataico']\n"
     ]
    },
    {
     "data": {
      "text/plain": [
       "17"
      ]
     },
     "execution_count": 19,
     "metadata": {},
     "output_type": "execute_result"
    }
   ],
   "source": [
    "#Comprobar cuantas empresas quedan\n",
    "dict_names_2= list(set(dict_names))\n",
    "\n",
    "print(dict_names_2)\n",
    "len(dict_names_2)\n"
   ]
  },
  {
   "cell_type": "code",
   "execution_count": 25,
   "id": "82e0dcb4",
   "metadata": {
    "scrolled": true
   },
   "outputs": [
    {
     "name": "stderr",
     "output_type": "stream",
     "text": [
      "C:\\Users\\User\\AppData\\Local\\Temp/ipykernel_12524/1201698174.py:10: DeprecationWarning: find_element_by_link_text is deprecated. Please use find_element(by=By.LINK_TEXT, value=link_text) instead\n",
      "  ClickAbout= browser.find_element_by_link_text('Acerca de')\n",
      "C:\\Users\\User\\AppData\\Local\\Temp/ipykernel_12524/1201698174.py:17: DeprecationWarning: find_element_by_xpath is deprecated. Please use find_element(by=By.XPATH, value=xpath) instead\n",
      "  NombreEmpresa=browser.find_element_by_xpath('//span[@dir=\"ltr\"]').text\n",
      "C:\\Users\\User\\AppData\\Local\\Temp/ipykernel_12524/1201698174.py:18: DeprecationWarning: find_elements_by_tag_name is deprecated. Please use find_elements(by=By.TAG_NAME, value=name) instead\n",
      "  InformationDesc=browser.find_elements_by_tag_name(\"dl\")\n"
     ]
    }
   ],
   "source": [
    "#captura de la informacion de cada empresa \n",
    "df1 = pd.DataFrame() \n",
    "\n",
    "for i in range(len(dict_links_2)):\n",
    "    try:\n",
    "        browser.get(dict_links_2[i])\n",
    "        sleep(5)\n",
    "        browser.execute_script('window.scrollTo(0,300)')\n",
    "    \n",
    "        ClickAbout= browser.find_element_by_link_text('Acerca de')\n",
    "        ClickAbout.click()\n",
    "        sleep(5)\n",
    "    except:\n",
    "        continue\n",
    "    try: \n",
    "        ##imprimir toda la info de la empresa \n",
    "        NombreEmpresa=browser.find_element_by_xpath('//span[@dir=\"ltr\"]').text\n",
    "        InformationDesc=browser.find_elements_by_tag_name(\"dl\")   \n",
    "        web=InformationDesc[0].text\n",
    "        tr = web.split('\\n')\n",
    "    except:\n",
    "        tr='NaN'\n",
    "           \n",
    "    try:\n",
    "        a =tr.index(\"Sitio web\")\n",
    "        SitioWeb=tr[a+1]\n",
    "    except:\n",
    "        SitioWeb='NaN'\n",
    "          \n",
    "    try:\n",
    "        b =tr.index(\"Tamaño de la empresa\")\n",
    "        Tamaño=tr[b+1]\n",
    "    except:\n",
    "        Tamaño='NaN'\n",
    "    try:\n",
    "        c =tr.index(\"Teléfono\")\n",
    "        Teléfono=tr[c+1]\n",
    "    except:\n",
    "        Teléfono='NaN'\n",
    "    try:\n",
    "        d =tr.index(\"Sede\")\n",
    "        Sede=tr[d+1]\n",
    "    except:\n",
    "        Sede='NaN'\n",
    "    try:\n",
    "        e =tr.index(\"Tipo\")\n",
    "        Tipo=tr[e+1]\n",
    "    except:\n",
    "        Tipo='NaN'\n",
    "    try:\n",
    "        f =tr.index(\"Fundación\")\n",
    "        Fundación=tr[f+1]\n",
    "    except:\n",
    "        Fundación='NaN'\n",
    "    try:\n",
    "        f =tr.index(\"Especialidades\")\n",
    "        Especialidades=tr[f+1]\n",
    "    except:\n",
    "        Especialidades='NaN'\n",
    "    try:\n",
    "        f =tr.index(\"Sector\")\n",
    "        Sector=tr[f+1]\n",
    "    except:\n",
    "        Sector='NaN'\n",
    "           \n",
    "    dic = {'Nombre ':\" \",'Sitio Web ':\" \",'Tamaño ':\" \",'Teléfono':\"\",'Sede':\"\",'Tipo':\"\",'Fundación':\"\",'Especialidades':\"\",'Sector':\"\"}\n",
    "    \n",
    "    dic.update({'Nombre ': NombreEmpresa})\n",
    "    try:    \n",
    "        dic.update({'Sitio Web ': SitioWeb})\n",
    "    except:\n",
    "           continue\n",
    "    try:    \n",
    "        dic.update({'Tamaño ': Tamaño})\n",
    "    except:\n",
    "           continue\n",
    "    try:    \n",
    "        dic.update({'Teléfono ': Teléfono})\n",
    "    except:\n",
    "           continue\n",
    "    try:    \n",
    "        dic.update({'Sede ': Sede})\n",
    "    except:\n",
    "           continue\n",
    "    try:    \n",
    "        dic.update({'Tipo ': Tipo})\n",
    "    except:\n",
    "           continue\n",
    "    try:    \n",
    "        dic.update({'Fundación ': Fundación})\n",
    "    except:\n",
    "           continue\n",
    "    try:    \n",
    "        dic.update({'Especialidades ': Especialidades})\n",
    "    except:\n",
    "           continue\n",
    "    try:    \n",
    "        dic.update({'Sector ': Sector})\n",
    "    except:\n",
    "           continue\n",
    "    try:    \n",
    "        df=pd.DataFrame([{'Nombre ':NombreEmpresa,'Sitio Web ':SitioWeb,'Tamaño ':Tamaño,'Teléfono ': Teléfono,'Sede ': Sede,'Tipo ': Tipo,'Fundación ': Fundación,'Especialidades ': Especialidades,'Sector ': Sector}])\n",
    "        df1 =pd.concat([df1, df], ignore_index=True)\n",
    "    except:\n",
    "          continue\n",
    "\n",
    "\n"
   ]
  },
  {
   "cell_type": "code",
   "execution_count": 26,
   "id": "cf8c1c6a",
   "metadata": {
    "scrolled": true
   },
   "outputs": [
    {
     "data": {
      "text/html": [
       "<div>\n",
       "<style scoped>\n",
       "    .dataframe tbody tr th:only-of-type {\n",
       "        vertical-align: middle;\n",
       "    }\n",
       "\n",
       "    .dataframe tbody tr th {\n",
       "        vertical-align: top;\n",
       "    }\n",
       "\n",
       "    .dataframe thead th {\n",
       "        text-align: right;\n",
       "    }\n",
       "</style>\n",
       "<table border=\"1\" class=\"dataframe\">\n",
       "  <thead>\n",
       "    <tr style=\"text-align: right;\">\n",
       "      <th></th>\n",
       "      <th>Nombre</th>\n",
       "      <th>Sitio Web</th>\n",
       "      <th>Tamaño</th>\n",
       "      <th>Teléfono</th>\n",
       "      <th>Sede</th>\n",
       "      <th>Tipo</th>\n",
       "      <th>Fundación</th>\n",
       "      <th>Especialidades</th>\n",
       "      <th>Sector</th>\n",
       "    </tr>\n",
       "  </thead>\n",
       "  <tbody>\n",
       "    <tr>\n",
       "      <th>0</th>\n",
       "      <td>FactorIT</td>\n",
       "      <td>http://www.factorit.com</td>\n",
       "      <td>201-500 empleados</td>\n",
       "      <td>NaN</td>\n",
       "      <td>Santiago, Chile</td>\n",
       "      <td>NaN</td>\n",
       "      <td>2011</td>\n",
       "      <td>banks, Financial Services, Insurance, Retail, ...</td>\n",
       "      <td>Servicios de TI y consultoría de TI</td>\n",
       "    </tr>\n",
       "    <tr>\n",
       "      <th>1</th>\n",
       "      <td>Teilur</td>\n",
       "      <td>https://www.teilur.com/</td>\n",
       "      <td>2-10 empleados</td>\n",
       "      <td>+1 (347) 3984897</td>\n",
       "      <td>Claymont, DE</td>\n",
       "      <td>NaN</td>\n",
       "      <td>2018</td>\n",
       "      <td>NaN</td>\n",
       "      <td>Dotación y selección de personal</td>\n",
       "    </tr>\n",
       "    <tr>\n",
       "      <th>2</th>\n",
       "      <td>Zurich Insurance</td>\n",
       "      <td>http://www.zurich.com/social-media</td>\n",
       "      <td>+10.001 empleados</td>\n",
       "      <td>NaN</td>\n",
       "      <td>Zurich, Zurich</td>\n",
       "      <td>NaN</td>\n",
       "      <td>NaN</td>\n",
       "      <td>insurance, Life insurance, Casual and Property...</td>\n",
       "      <td>Seguros</td>\n",
       "    </tr>\n",
       "    <tr>\n",
       "      <th>3</th>\n",
       "      <td>Placer.ai</td>\n",
       "      <td>http://placer.io</td>\n",
       "      <td>51-200 empleados</td>\n",
       "      <td>NaN</td>\n",
       "      <td>Los Altos, California</td>\n",
       "      <td>NaN</td>\n",
       "      <td>2018</td>\n",
       "      <td>NaN</td>\n",
       "      <td>Desarrollo de software</td>\n",
       "    </tr>\n",
       "    <tr>\n",
       "      <th>4</th>\n",
       "      <td>Appen</td>\n",
       "      <td>http://appen.com</td>\n",
       "      <td>501-1000 empleados</td>\n",
       "      <td>NaN</td>\n",
       "      <td>NaN</td>\n",
       "      <td>NaN</td>\n",
       "      <td>1996</td>\n",
       "      <td>Search, Neuro-linguistic programming (NLP), An...</td>\n",
       "      <td>Servicios de TI y consultoría de TI</td>\n",
       "    </tr>\n",
       "    <tr>\n",
       "      <th>5</th>\n",
       "      <td>DERCO COLOMBIA</td>\n",
       "      <td>https://derco.com.co/</td>\n",
       "      <td>201-500 empleados</td>\n",
       "      <td>(1) 5190300</td>\n",
       "      <td>NaN</td>\n",
       "      <td>NaN</td>\n",
       "      <td>2010</td>\n",
       "      <td>automotriz, maquinaria, repuestos, servicios, ...</td>\n",
       "      <td>Fabricación de vehículos motorizados</td>\n",
       "    </tr>\n",
       "    <tr>\n",
       "      <th>6</th>\n",
       "      <td>Trellix</td>\n",
       "      <td>https://www.trellix.com</td>\n",
       "      <td>1001-5000 empleados</td>\n",
       "      <td>NaN</td>\n",
       "      <td>NaN</td>\n",
       "      <td>NaN</td>\n",
       "      <td>2022</td>\n",
       "      <td>NaN</td>\n",
       "      <td>Seguridad de redes y sistemas informáticos</td>\n",
       "    </tr>\n",
       "    <tr>\n",
       "      <th>7</th>\n",
       "      <td>Widow Games</td>\n",
       "      <td>http://www.widowgames.com</td>\n",
       "      <td>11-50 empleados</td>\n",
       "      <td>NaN</td>\n",
       "      <td>CABA, Buenos Aires</td>\n",
       "      <td>NaN</td>\n",
       "      <td>2012</td>\n",
       "      <td>Mobile Game Design, Mobile Game Development, M...</td>\n",
       "      <td>Videojuegos</td>\n",
       "    </tr>\n",
       "    <tr>\n",
       "      <th>8</th>\n",
       "      <td>Inetum</td>\n",
       "      <td>http://www.inetum.com</td>\n",
       "      <td>+10.001 empleados</td>\n",
       "      <td>NaN</td>\n",
       "      <td>Saint-Ouen, Île-de-France</td>\n",
       "      <td>NaN</td>\n",
       "      <td>1970</td>\n",
       "      <td>IT Services, informatique, consulting, cloud, ...</td>\n",
       "      <td>Servicios de TI y consultoría de TI</td>\n",
       "    </tr>\n",
       "    <tr>\n",
       "      <th>9</th>\n",
       "      <td>Cognite</td>\n",
       "      <td>http://cognite.com</td>\n",
       "      <td>501-1000 empleados</td>\n",
       "      <td>NaN</td>\n",
       "      <td>Lysaker, Bærum</td>\n",
       "      <td>NaN</td>\n",
       "      <td>2016</td>\n",
       "      <td>IT, Data Platform, IIOT, Machine Learning, Art...</td>\n",
       "      <td>Servicios de TI y consultoría de TI</td>\n",
       "    </tr>\n",
       "    <tr>\n",
       "      <th>10</th>\n",
       "      <td>Sofka Technologies</td>\n",
       "      <td>http://www.sofka.com.co</td>\n",
       "      <td>501-1000 empleados</td>\n",
       "      <td>2668907</td>\n",
       "      <td>Medellin , Antioquia</td>\n",
       "      <td>NaN</td>\n",
       "      <td>2013</td>\n",
       "      <td>Arquitecturas Reactivas , DevOps , Automatizac...</td>\n",
       "      <td>Servicios de TI y consultoría de TI</td>\n",
       "    </tr>\n",
       "    <tr>\n",
       "      <th>11</th>\n",
       "      <td>Grupodot</td>\n",
       "      <td>http://www.grupodot.com</td>\n",
       "      <td>51-200 empleados</td>\n",
       "      <td>(316) 786 7968</td>\n",
       "      <td>Bogotá, Bogotá D.C.</td>\n",
       "      <td>NaN</td>\n",
       "      <td>2004</td>\n",
       "      <td>Interaction Design, User Experience, BI &amp; BigD...</td>\n",
       "      <td>Servicios de publicidad</td>\n",
       "    </tr>\n",
       "    <tr>\n",
       "      <th>12</th>\n",
       "      <td>Listopro</td>\n",
       "      <td>http://www.listopro.com</td>\n",
       "      <td>11-50 empleados</td>\n",
       "      <td>NaN</td>\n",
       "      <td>Mexico City, Ciudad de México</td>\n",
       "      <td>NaN</td>\n",
       "      <td>2017</td>\n",
       "      <td>NaN</td>\n",
       "      <td>Publicaciones en línea</td>\n",
       "    </tr>\n",
       "    <tr>\n",
       "      <th>13</th>\n",
       "      <td>ScotiaTech</td>\n",
       "      <td>NaN</td>\n",
       "      <td>1001-5000 empleados</td>\n",
       "      <td>NaN</td>\n",
       "      <td>NaN</td>\n",
       "      <td>NaN</td>\n",
       "      <td>NaN</td>\n",
       "      <td>NaN</td>\n",
       "      <td>Servicios de TI y consultoría de TI</td>\n",
       "    </tr>\n",
       "    <tr>\n",
       "      <th>14</th>\n",
       "      <td>Dafiti Group LATAM</td>\n",
       "      <td>http://www.dafiti.com.ar/</td>\n",
       "      <td>201-500 empleados</td>\n",
       "      <td>NaN</td>\n",
       "      <td>Buenos Aires , Buenos Aires</td>\n",
       "      <td>NaN</td>\n",
       "      <td>2011</td>\n",
       "      <td>Industria Textil y Moda, Tienda Online, E-Comm...</td>\n",
       "      <td>Industria textil y moda para la venta minorista</td>\n",
       "    </tr>\n",
       "    <tr>\n",
       "      <th>15</th>\n",
       "      <td>Dataico</td>\n",
       "      <td>http://dataico.com</td>\n",
       "      <td>11-50 empleados</td>\n",
       "      <td>3213030900</td>\n",
       "      <td>NaN</td>\n",
       "      <td>NaN</td>\n",
       "      <td>NaN</td>\n",
       "      <td>nominaelectronica, contabilidad, facturacionel...</td>\n",
       "      <td>Servicios financieros</td>\n",
       "    </tr>\n",
       "  </tbody>\n",
       "</table>\n",
       "</div>"
      ],
      "text/plain": [
       "               Nombre                           Sitio Web   \\\n",
       "0             FactorIT             http://www.factorit.com   \n",
       "1               Teilur             https://www.teilur.com/   \n",
       "2     Zurich Insurance  http://www.zurich.com/social-media   \n",
       "3            Placer.ai                    http://placer.io   \n",
       "4                Appen                    http://appen.com   \n",
       "5       DERCO COLOMBIA               https://derco.com.co/   \n",
       "6              Trellix             https://www.trellix.com   \n",
       "7          Widow Games           http://www.widowgames.com   \n",
       "8               Inetum               http://www.inetum.com   \n",
       "9              Cognite                  http://cognite.com   \n",
       "10  Sofka Technologies             http://www.sofka.com.co   \n",
       "11            Grupodot             http://www.grupodot.com   \n",
       "12            Listopro             http://www.listopro.com   \n",
       "13          ScotiaTech                                 NaN   \n",
       "14  Dafiti Group LATAM           http://www.dafiti.com.ar/   \n",
       "15             Dataico                  http://dataico.com   \n",
       "\n",
       "                Tamaño          Teléfono                           Sede   \\\n",
       "0     201-500 empleados               NaN                Santiago, Chile   \n",
       "1        2-10 empleados  +1 (347) 3984897                   Claymont, DE   \n",
       "2     +10.001 empleados               NaN                 Zurich, Zurich   \n",
       "3      51-200 empleados               NaN          Los Altos, California   \n",
       "4    501-1000 empleados               NaN                            NaN   \n",
       "5     201-500 empleados       (1) 5190300                            NaN   \n",
       "6   1001-5000 empleados               NaN                            NaN   \n",
       "7       11-50 empleados               NaN             CABA, Buenos Aires   \n",
       "8     +10.001 empleados               NaN      Saint-Ouen, Île-de-France   \n",
       "9    501-1000 empleados               NaN                 Lysaker, Bærum   \n",
       "10   501-1000 empleados           2668907           Medellin , Antioquia   \n",
       "11     51-200 empleados    (316) 786 7968            Bogotá, Bogotá D.C.   \n",
       "12      11-50 empleados               NaN  Mexico City, Ciudad de México   \n",
       "13  1001-5000 empleados               NaN                            NaN   \n",
       "14    201-500 empleados               NaN    Buenos Aires , Buenos Aires   \n",
       "15      11-50 empleados        3213030900                            NaN   \n",
       "\n",
       "   Tipo  Fundación                                     Especialidades   \\\n",
       "0    NaN       2011  banks, Financial Services, Insurance, Retail, ...   \n",
       "1    NaN       2018                                                NaN   \n",
       "2    NaN        NaN  insurance, Life insurance, Casual and Property...   \n",
       "3    NaN       2018                                                NaN   \n",
       "4    NaN       1996  Search, Neuro-linguistic programming (NLP), An...   \n",
       "5    NaN       2010  automotriz, maquinaria, repuestos, servicios, ...   \n",
       "6    NaN       2022                                                NaN   \n",
       "7    NaN       2012  Mobile Game Design, Mobile Game Development, M...   \n",
       "8    NaN       1970  IT Services, informatique, consulting, cloud, ...   \n",
       "9    NaN       2016  IT, Data Platform, IIOT, Machine Learning, Art...   \n",
       "10   NaN       2013  Arquitecturas Reactivas , DevOps , Automatizac...   \n",
       "11   NaN       2004  Interaction Design, User Experience, BI & BigD...   \n",
       "12   NaN       2017                                                NaN   \n",
       "13   NaN        NaN                                                NaN   \n",
       "14   NaN       2011  Industria Textil y Moda, Tienda Online, E-Comm...   \n",
       "15   NaN        NaN  nominaelectronica, contabilidad, facturacionel...   \n",
       "\n",
       "                                            Sector   \n",
       "0               Servicios de TI y consultoría de TI  \n",
       "1                  Dotación y selección de personal  \n",
       "2                                           Seguros  \n",
       "3                            Desarrollo de software  \n",
       "4               Servicios de TI y consultoría de TI  \n",
       "5              Fabricación de vehículos motorizados  \n",
       "6        Seguridad de redes y sistemas informáticos  \n",
       "7                                       Videojuegos  \n",
       "8               Servicios de TI y consultoría de TI  \n",
       "9               Servicios de TI y consultoría de TI  \n",
       "10              Servicios de TI y consultoría de TI  \n",
       "11                          Servicios de publicidad  \n",
       "12                           Publicaciones en línea  \n",
       "13              Servicios de TI y consultoría de TI  \n",
       "14  Industria textil y moda para la venta minorista  \n",
       "15                            Servicios financieros  "
      ]
     },
     "execution_count": 26,
     "metadata": {},
     "output_type": "execute_result"
    }
   ],
   "source": [
    "#vista previa importación \n",
    "df1"
   ]
  },
  {
   "cell_type": "code",
   "execution_count": 27,
   "id": "2eb5ff4c",
   "metadata": {},
   "outputs": [],
   "source": [
    "#importación de la información \n",
    "df1.to_csv('Ejemplo_data.csv')"
   ]
  }
 ],
 "metadata": {
  "kernelspec": {
   "display_name": "Python 3 (ipykernel)",
   "language": "python",
   "name": "python3"
  },
  "language_info": {
   "codemirror_mode": {
    "name": "ipython",
    "version": 3
   },
   "file_extension": ".py",
   "mimetype": "text/x-python",
   "name": "python",
   "nbconvert_exporter": "python",
   "pygments_lexer": "ipython3",
   "version": "3.9.7"
  }
 },
 "nbformat": 4,
 "nbformat_minor": 5
}
